{
 "cells": [
  {
   "cell_type": "code",
   "execution_count": 14,
   "metadata": {},
   "outputs": [],
   "source": [
    "import faiss\n",
    "import sys\n",
    "\n",
    "modules = '/home/dbcloud/ym/CSPG/ANNS/modules'\n",
    "\n",
    "if modules not in sys.path:\n",
    "  sys.path.append(modules)\n",
    "\n",
    "from binary_io import *\n",
    "import anns"
   ]
  },
  {
   "cell_type": "code",
   "execution_count": 15,
   "metadata": {},
   "outputs": [],
   "source": [
    "dataset = 'gud'\n",
    "\n",
    "read_ways = 'fvecs_read'\n",
    "\n",
    "base = \"/home/dbcloud/ym/CSPG/experiment/distribution/data/ubase.fvecs\"\n",
    "\n",
    "query = \"/home/dbcloud/ym/CSPG/experiment/distribution/data/uquery.fvecs\"\n",
    "\n",
    "\n",
    "gt = \"/home/dbcloud/ym/CSPG/experiment/distribution/data/ugt.ivecs\"\n",
    "\n",
    "output = '/home/dbcloud/ym/CSPG/experiment/output/distribution/'"
   ]
  },
  {
   "cell_type": "code",
   "execution_count": 16,
   "metadata": {},
   "outputs": [],
   "source": [
    "def test_faiss_ivf(base, query, gt, rw, dataset):\n",
    "\n",
    "  if rw == 'fbin_read':\n",
    "    base = fbin_read(base)\n",
    "    query = fbin_read(query)\n",
    "  else:\n",
    "    base = fvecs_read(base)\n",
    "    query = fvecs_read(query)\n",
    "\n",
    "  if dataset == 'deep1m':\n",
    "    gt = ibin_read(gt)\n",
    "  else:\n",
    "    gt = ivecs_read(gt)\n",
    "\n",
    "  nb, d = base.shape\n",
    "  nq, ngt = gt.shape\n",
    "  gt = gt.flatten().tolist()\n",
    "\n",
    "  k = 10\n",
    "  threads = 24\n",
    "  faiss.omp_set_num_threads(threads)\n",
    "\n",
    "  nlist = 1204\n",
    "\n",
    "  quantizer = faiss.IndexFlatL2(d) \n",
    "  index = faiss.IndexIVFFlat(quantizer, d, nlist, faiss.METRIC_L2)\n",
    "  # Train the index\n",
    "  index.train(base)\n",
    "  # Add the base vectors to the index\n",
    "  index.add(base)\n",
    "\n",
    "  print(dataset, nb, d, nq, nlist, k)\n",
    "\n",
    "  out = open(output + dataset + '_ivf.csv', 'w')\n",
    "\n",
    "  tm = anns.STimer()\n",
    "\n",
    "  print('num_queries,nlist,nprobe,query_time,recall', file=out)\n",
    "  for npb in range(10, 200+1, 10):\n",
    "    index.nprobe = npb\n",
    "    tm.reset()\n",
    "    tm.start()\n",
    "    D, I = index.search(query, k)\n",
    "    tm.stop()\n",
    "    query_time = tm.get_time()\n",
    "    recall = anns.get_recall(k, ngt, gt, I)\n",
    "    print(f\"{nq},{nlist},{npb},{query_time},{recall}\", file=out)\n",
    "\n",
    "  out.close()"
   ]
  },
  {
   "cell_type": "code",
   "execution_count": 17,
   "metadata": {},
   "outputs": [
    {
     "name": "stdout",
     "output_type": "stream",
     "text": [
      "gud 1000000 96 1000 1204 10\n"
     ]
    }
   ],
   "source": [
    "# for ds, rw, base, query, gt in zip(dataset, read_ways, bases, queries, gts):\n",
    "#   test_faiss_ivf(base, query, gt, rw, ds)\n",
    "test_faiss_ivf(base, query, gt, read_ways, dataset)"
   ]
  }
 ],
 "metadata": {
  "kernelspec": {
   "display_name": "yangming",
   "language": "python",
   "name": "python3"
  },
  "language_info": {
   "codemirror_mode": {
    "name": "ipython",
    "version": 3
   },
   "file_extension": ".py",
   "mimetype": "text/x-python",
   "name": "python",
   "nbconvert_exporter": "python",
   "pygments_lexer": "ipython3",
   "version": "3.12.3"
  },
  "orig_nbformat": 4
 },
 "nbformat": 4,
 "nbformat_minor": 2
}
