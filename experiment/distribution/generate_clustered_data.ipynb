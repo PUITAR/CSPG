{
 "cells": [
  {
   "cell_type": "code",
   "execution_count": 5,
   "metadata": {},
   "outputs": [],
   "source": [
    "import faiss\n",
    "import numpy as np\n",
    "import time\n",
    "import sys"
   ]
  },
  {
   "cell_type": "code",
   "execution_count": 6,
   "metadata": {},
   "outputs": [],
   "source": [
    "my_modules = '/home/dbcloud/ym/CSPG/ANNS/modules'\n",
    "\n",
    "if my_modules not in sys.path:\n",
    "  sys.path.append(my_modules)\n",
    "\n",
    "import anns as pui\n",
    "from binary_io import *"
   ]
  },
  {
   "cell_type": "code",
   "execution_count": 7,
   "metadata": {},
   "outputs": [],
   "source": [
    "import numpy as np\n",
    "from sklearn.neighbors import NearestNeighbors\n",
    "\n",
    "def hopkins_statistic(X, m):\n",
    "  n, d = X.shape\n",
    "  nbrs = NearestNeighbors(n_neighbors=1).fit(X)\n",
    "  rand_X = np.random.uniform(np.min(X, axis=0), np.max(X, axis=0), (m, d))\n",
    "  ujd = []\n",
    "  wjd = []\n",
    "\n",
    "  for j in range(m):\n",
    "    u_dist, _ = nbrs.kneighbors(rand_X[j].reshape(1, -1), 2, return_distance=True)\n",
    "    w_dist, _ = nbrs.kneighbors(X[np.random.randint(0, n)].reshape(1, -1), 2, return_distance=True)\n",
    "    ujd.append(u_dist[0][1])\n",
    "    wjd.append(w_dist[0][1])\n",
    "\n",
    "    H = sum(ujd) / (sum(ujd) + sum(wjd))\n",
    "    return H"
   ]
  },
  {
   "cell_type": "code",
   "execution_count": 8,
   "metadata": {},
   "outputs": [
    {
     "name": "stdout",
     "output_type": "stream",
     "text": [
      "Hopkins Statics: 0.9694195405345042\n"
     ]
    }
   ],
   "source": [
    "n_vectors = 1000000\n",
    "n_query = 1000\n",
    "dims = 96\n",
    "m = int(0.001 * n_vectors)\n",
    "\n",
    "# Generate initial cluster centers\n",
    "cluster_centers = np.random.rand(10, dims)\n",
    "\n",
    "# Generate initial points around cluster centers\n",
    "X = np.vstack([\n",
    "    center + 0.01 * np.random.randn(n_vectors // 10, dims)\n",
    "    for center in cluster_centers\n",
    "])\n",
    "np.random.shuffle(X)  # Shuffle to mix the data points\n",
    "H = hopkins_statistic(X, m)\n",
    "\n",
    "print('Hopkins Statics:', H)\n",
    "\n",
    "X = X.astype('float32')\n",
    "\n",
    "query = X[:n_query]\n",
    "\n",
    "fvecs_save('data/base.fvecs', X)\n",
    "fvecs_save('data/query.fvecs', query)\n",
    "\n",
    "\n",
    "# cailiao shanchu"
   ]
  }
 ],
 "metadata": {
  "kernelspec": {
   "display_name": "yangming",
   "language": "python",
   "name": "python3"
  },
  "language_info": {
   "codemirror_mode": {
    "name": "ipython",
    "version": 3
   },
   "file_extension": ".py",
   "mimetype": "text/x-python",
   "name": "python",
   "nbconvert_exporter": "python",
   "pygments_lexer": "ipython3",
   "version": "3.12.3"
  },
  "orig_nbformat": 4
 },
 "nbformat": 4,
 "nbformat_minor": 2
}
