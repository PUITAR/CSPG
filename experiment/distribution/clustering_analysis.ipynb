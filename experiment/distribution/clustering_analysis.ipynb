{
 "cells": [
  {
   "cell_type": "code",
   "execution_count": 12,
   "metadata": {},
   "outputs": [],
   "source": [
    "import sys\n",
    "import numpy as np\n",
    "\n",
    " \n",
    "def ivecs_read(fname):\n",
    "  a = np.fromfile(fname, dtype='int32')\n",
    "  d = a[0]\n",
    "  return a.reshape(-1, d + 1)[:, 1:].copy()\n",
    " \n",
    "def fvecs_read(fname):\n",
    "  return ivecs_read(fname).view('float32')\n",
    "\n",
    "def fbin_read(fname):\n",
    "  data = np.fromfile(fname, dtype='int32')\n",
    "  n, d = data[0], data[1]\n",
    "  return data[2:].reshape(n, d).view('float32')\n"
   ]
  },
  {
   "cell_type": "code",
   "execution_count": 13,
   "metadata": {},
   "outputs": [],
   "source": [
    "path_sift1m = \"/var/lib/docker/anns/dataset/sift1m/base.fvecs\"\n",
    "path_gist1m = \"/var/lib/docker/anns/dataset/gist1m/base.fvecs\"\n",
    "path_deep1m = \"/var/lib/docker/anns/dataset/deep1b/base.1M.fbin\"\n",
    "path_text2image1m = \"/home/dbcloud/big-ann-benchmarks/data/text2image1B/base.1B.fbin.crop_nb_1000000\"\n",
    "path_turing1m = \"/home/dbcloud/big-ann-benchmarks/data/MSTuringANNS/base1b.fbin.crop_nb_1000000\""
   ]
  },
  {
   "attachments": {},
   "cell_type": "markdown",
   "metadata": {},
   "source": [
    "Hopkins Statistic"
   ]
  },
  {
   "cell_type": "code",
   "execution_count": 16,
   "metadata": {},
   "outputs": [
    {
     "name": "stdout",
     "output_type": "stream",
     "text": [
      "Hopkins Statistic for SIFT1M:  0.49618556213019954\n",
      "Hopkins Statistic for GIST1M:  0.5275797203532487\n",
      "Hopkins Statistic for DEEP1M:  0.4792842712513281\n",
      "Hopkins Statistic for Text2image1M:  0.4871102759793496\n",
      "Hopkins Statistic for Turing1M:  0.48044122831340663\n"
     ]
    }
   ],
   "source": [
    "from scipy.spatial.distance import cdist\n",
    "\n",
    "def hopkins_statistic(data, sample_size=None):\n",
    "  n = data.shape[0]\n",
    "  if sample_size is None:\n",
    "      sample_size = n\n",
    "\n",
    "  # Randomly Select Sample Points\n",
    "  indices = np.random.permutation(n)\n",
    "  sample_data = data[indices[:sample_size]]\n",
    "  \n",
    "  # Randomly Generate Background Points\n",
    "  min_vals = data.min(axis=0)\n",
    "  max_vals = data.max(axis=0)\n",
    "  background_data = np.random.uniform(min_vals, max_vals, (sample_size, data.shape[1]))\n",
    "  \n",
    "  # Distance Computation\n",
    "  d_x = np.mean(np.min(cdist(sample_data, background_data), axis=1))\n",
    "  d_u = np.mean(np.min(cdist(background_data, sample_data), axis=1))\n",
    "\n",
    "  # COmputation for Hopkins Statistic\n",
    "  H = d_x / (d_x + d_u)\n",
    "  \n",
    "  return H\n",
    "\n",
    "sample_size = 5000\n",
    "\n",
    "\n",
    "\n",
    "H_sift1m = hopkins_statistic(fvecs_read(path_sift1m), sample_size)\n",
    "print(\"Hopkins Statistic for SIFT1M: \", H_sift1m)\n",
    "\n",
    "H_gist1m = hopkins_statistic(fvecs_read(path_gist1m), sample_size)\n",
    "print(\"Hopkins Statistic for GIST1M: \", H_gist1m)\n",
    "\n",
    "H_deep1m = hopkins_statistic(fbin_read(path_deep1m), sample_size)\n",
    "print(\"Hopkins Statistic for DEEP1M: \", H_deep1m)\n",
    "\n",
    "H_text2image1m = hopkins_statistic(fbin_read(path_text2image1m), sample_size)\n",
    "print(\"Hopkins Statistic for Text2image1M: \", H_text2image1m)\n",
    "\n",
    "H_turing1m = hopkins_statistic(fbin_read(path_turing1m), sample_size)\n",
    "print(\"Hopkins Statistic for Turing1M: \", H_turing1m)\n",
    "\n",
    "H_random_clustered_data = hopkins_statistic(fvecs_read(path_random_clustered_data), sample_size)\n",
    "print(\"Hopkins Statistic for Random Clustered Data: \", H_random_clustered_data)"
   ]
  }
 ],
 "metadata": {
  "kernelspec": {
   "display_name": "yangming",
   "language": "python",
   "name": "python3"
  },
  "language_info": {
   "codemirror_mode": {
    "name": "ipython",
    "version": 3
   },
   "file_extension": ".py",
   "mimetype": "text/x-python",
   "name": "python",
   "nbconvert_exporter": "python",
   "pygments_lexer": "ipython3",
   "version": "3.12.3"
  },
  "orig_nbformat": 4
 },
 "nbformat": 4,
 "nbformat_minor": 2
}
