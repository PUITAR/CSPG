{
 "cells": [
  {
   "cell_type": "code",
   "execution_count": 13,
   "metadata": {},
   "outputs": [],
   "source": [
    "from annoy import AnnoyIndex\n",
    "import sys\n",
    "\n",
    "modules = '/home/dbcloud/ym/CSPG/ANNS/modules'\n",
    "\n",
    "if modules not in sys.path:\n",
    "  sys.path.append(modules)\n",
    "\n",
    "from binary_io import *\n",
    "import anns\n",
    "\n",
    "from concurrent.futures import ThreadPoolExecutor"
   ]
  },
  {
   "cell_type": "code",
   "execution_count": 14,
   "metadata": {},
   "outputs": [],
   "source": [
    "dataset = 'gud'\n",
    "\n",
    "base = \"/home/dbcloud/ym/CSPG/experiment/distribution/data/ubase.fvecs\"\n",
    "\n",
    "query = \"/home/dbcloud/ym/CSPG/experiment/distribution/data/uquery.fvecs\"\n",
    "\n",
    "gt = \"/home/dbcloud/ym/CSPG/experiment/distribution/data/ugt.ivecs\"\n",
    "\n",
    "output = '/home/dbcloud/ym/CSPG/experiment/output/distribution/'"
   ]
  },
  {
   "cell_type": "code",
   "execution_count": 15,
   "metadata": {},
   "outputs": [],
   "source": [
    "def query_F(index, vector, k):\n",
    "  return index.get_nns_by_vector(vector, k, include_distances=False)"
   ]
  },
  {
   "cell_type": "code",
   "execution_count": 16,
   "metadata": {},
   "outputs": [],
   "source": [
    "def test_annoy(base, query, gt, rw, dataset):\n",
    "\n",
    "  if rw == 'fbin_read':\n",
    "    base = fbin_read(base)\n",
    "    query = fbin_read(query)\n",
    "  else:\n",
    "    base = fvecs_read(base)\n",
    "    query = fvecs_read(query)\n",
    "\n",
    "  if dataset == 'deep1m':\n",
    "    gt = ibin_read(gt)\n",
    "  else:\n",
    "    gt = ivecs_read(gt)\n",
    "\n",
    "  nb, d = base.shape\n",
    "  nq, ngt = gt.shape\n",
    "  gt = gt.flatten().tolist()\n",
    "\n",
    "  k = 10\n",
    "  threads = 24\n",
    "  # faiss.omp_set_num_threads(threads)\n",
    "\n",
    "  print(dataset, nb, d, nq, k)\n",
    "\n",
    "  out = open(output + dataset + '_annoy.csv', 'w')\n",
    "\n",
    "  tm = anns.STimer()\n",
    "\n",
    "  print('num_queries,num_tree,query_time,recall', file=out)\n",
    "  for nt in [100, 200, 300, 400, 500, 800, 1600]:\n",
    "    print(nt) \n",
    "    index = AnnoyIndex(d, 'euclidean')\n",
    "    for i in range(nb):\n",
    "      index.add_item(i, base[i])\n",
    "\n",
    "    index.build(nt, n_jobs = threads)\n",
    "\n",
    "    tm.reset()\n",
    "    tm.start()\n",
    "    with ThreadPoolExecutor() as executor:\n",
    "      futures = [executor.submit(query_F, index, query[i], k) for i in range(nq)]\n",
    "    tm.stop()\n",
    "    results = [future.result() for future in futures]\n",
    "\n",
    "    indices_matrix = np.zeros((nq, k), dtype=int)\n",
    "    for i, indices in enumerate(results):\n",
    "      indices_matrix[i, :] = indices  \n",
    "\n",
    "    recall = anns.get_recall(k, ngt, gt, indices_matrix)\n",
    "    print(f'{nq},{nt},{tm.get_time()},{recall}', file=out)\n",
    "\n",
    "  out.close()"
   ]
  },
  {
   "cell_type": "code",
   "execution_count": 17,
   "metadata": {},
   "outputs": [
    {
     "name": "stdout",
     "output_type": "stream",
     "text": [
      "gud 1000000 96 1000 10\n",
      "100\n",
      "200\n",
      "300\n",
      "400\n",
      "500\n",
      "800\n",
      "1600\n"
     ]
    }
   ],
   "source": [
    "test_annoy(base, query, gt, 'fvecs_read', dataset)"
   ]
  }
 ],
 "metadata": {
  "kernelspec": {
   "display_name": "yangming",
   "language": "python",
   "name": "python3"
  },
  "language_info": {
   "codemirror_mode": {
    "name": "ipython",
    "version": 3
   },
   "file_extension": ".py",
   "mimetype": "text/x-python",
   "name": "python",
   "nbconvert_exporter": "python",
   "pygments_lexer": "ipython3",
   "version": "3.12.3"
  },
  "orig_nbformat": 4
 },
 "nbformat": 4,
 "nbformat_minor": 2
}
