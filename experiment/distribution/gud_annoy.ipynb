{
 "cells": [
  {
   "cell_type": "code",
   "execution_count": 8,
   "metadata": {},
   "outputs": [],
   "source": [
    "from annoy import AnnoyIndex\n",
    "import sys\n",
    "\n",
    "modules = '/home/dbcloud/ym/CSPG/ANNS/modules'\n",
    "\n",
    "if modules not in sys.path:\n",
    "  sys.path.append(modules)\n",
    "\n",
    "from binary_io import *\n",
    "import anns\n",
    "\n",
    "from concurrent.futures import ThreadPoolExecutor"
   ]
  },
  {
   "cell_type": "code",
   "execution_count": 9,
   "metadata": {},
   "outputs": [],
   "source": [
    "dataset = 'gud'\n",
    "\n",
    "base = \"/home/dbcloud/ym/CSPG/experiment/distribution/data/ubase.fvecs\"\n",
    "\n",
    "query = \"/home/dbcloud/ym/CSPG/experiment/distribution/data/uquery.fvecs\"\n",
    "\n",
    "gt = \"/home/dbcloud/ym/CSPG/experiment/distribution/data/ugt.ivecs\"\n",
    "\n",
    "output = '/home/dbcloud/ym/CSPG/experiment/output/distribution/'"
   ]
  },
  {
   "cell_type": "code",
   "execution_count": 10,
   "metadata": {},
   "outputs": [],
   "source": [
    "def query_F(index, vector, k):\n",
    "  return index.get_nns_by_vector(vector, k, include_distances=False)"
   ]
  },
  {
   "cell_type": "code",
   "execution_count": 11,
   "metadata": {},
   "outputs": [],
   "source": [
    "def test_annoy(base, query, gt, rw, dataset):\n",
    "\n",
    "  if rw == 'fbin_read':\n",
    "    base = fbin_read(base)\n",
    "    query = fbin_read(query)\n",
    "  else:\n",
    "    base = fvecs_read(base)\n",
    "    query = fvecs_read(query)\n",
    "\n",
    "  if dataset == 'deep1m':\n",
    "    gt = ibin_read(gt)\n",
    "  else:\n",
    "    gt = ivecs_read(gt)\n",
    "\n",
    "  nb, d = base.shape\n",
    "  nq, ngt = gt.shape\n",
    "  gt = gt.flatten().tolist()\n",
    "\n",
    "  k = 10\n",
    "  threads = 24\n",
    "  # faiss.omp_set_num_threads(threads)\n",
    "\n",
    "  print(dataset, nb, d, nq, k)\n",
    "\n",
    "  out = open(output + dataset + '_annoy.csv', 'w')\n",
    "\n",
    "  tm = anns.STimer()\n",
    "\n",
    "  print('num_queries,num_tree,query_time,recall', file=out)\n",
    "  for nt in [100, 200, 300, 400, 500, 800, 1600]:\n",
    "    print(nt) \n",
    "    index = AnnoyIndex(d, 'euclidean')\n",
    "    for i in range(nb):\n",
    "      index.add_item(i, base[i])\n",
    "\n",
    "    index.build(nt, n_jobs = threads)\n",
    "\n",
    "    tm.reset()\n",
    "    tm.start()\n",
    "    with ThreadPoolExecutor() as executor:\n",
    "      futures = [executor.submit(query_F, index, query[i], k) for i in range(nq)]\n",
    "    tm.stop()\n",
    "    results = [future.result() for future in futures]\n",
    "\n",
    "    indices_matrix = np.zeros((nq, k), dtype=int)\n",
    "    for i, indices in enumerate(results):\n",
    "      indices_matrix[i, :] = indices  \n",
    "\n",
    "    recall = anns.get_recall(k, ngt, gt, indices_matrix)\n",
    "    print(f'{nq},{nt},{tm.get_time()},{recall}', file=out)\n",
    "\n",
    "  out.close()"
   ]
  },
  {
   "cell_type": "code",
   "execution_count": 12,
   "metadata": {},
   "outputs": [
    {
     "ename": "NameError",
     "evalue": "name 'ds' is not defined",
     "output_type": "error",
     "traceback": [
      "\u001b[0;31m---------------------------------------------------------------------------\u001b[0m",
      "\u001b[0;31mNameError\u001b[0m                                 Traceback (most recent call last)",
      "Cell \u001b[0;32mIn[12], line 1\u001b[0m\n\u001b[0;32m----> 1\u001b[0m test_annoy(base, query, gt, \u001b[39m'\u001b[39;49m\u001b[39mfvecs_read\u001b[39;49m\u001b[39m'\u001b[39;49m, dataset)\n",
      "Cell \u001b[0;32mIn[11], line 23\u001b[0m, in \u001b[0;36mtest_annoy\u001b[0;34m(base, query, gt, rw, dataset)\u001b[0m\n\u001b[1;32m     20\u001b[0m threads \u001b[39m=\u001b[39m \u001b[39m24\u001b[39m\n\u001b[1;32m     21\u001b[0m \u001b[39m# faiss.omp_set_num_threads(threads)\u001b[39;00m\n\u001b[0;32m---> 23\u001b[0m \u001b[39mprint\u001b[39m(ds, nb, d, nq, k)\n\u001b[1;32m     25\u001b[0m out \u001b[39m=\u001b[39m \u001b[39mopen\u001b[39m(output \u001b[39m+\u001b[39m dataset \u001b[39m+\u001b[39m \u001b[39m'\u001b[39m\u001b[39m_annoy.csv\u001b[39m\u001b[39m'\u001b[39m, \u001b[39m'\u001b[39m\u001b[39mw\u001b[39m\u001b[39m'\u001b[39m)\n\u001b[1;32m     27\u001b[0m tm \u001b[39m=\u001b[39m anns\u001b[39m.\u001b[39mSTimer()\n",
      "\u001b[0;31mNameError\u001b[0m: name 'ds' is not defined"
     ]
    }
   ],
   "source": [
    "test_annoy(base, query, gt, 'fvecs_read', dataset)"
   ]
  }
 ],
 "metadata": {
  "kernelspec": {
   "display_name": "yangming",
   "language": "python",
   "name": "python3"
  },
  "language_info": {
   "codemirror_mode": {
    "name": "ipython",
    "version": 3
   },
   "file_extension": ".py",
   "mimetype": "text/x-python",
   "name": "python",
   "nbconvert_exporter": "python",
   "pygments_lexer": "ipython3",
   "version": "3.12.3"
  },
  "orig_nbformat": 4
 },
 "nbformat": 4,
 "nbformat_minor": 2
}
