{
 "cells": [
  {
   "cell_type": "code",
   "execution_count": 5,
   "metadata": {},
   "outputs": [],
   "source": [
    "import faiss\n",
    "import sys\n",
    "\n",
    "modules = '/home/dbcloud/ym/CSPG/ANNS/modules'\n",
    "\n",
    "if modules not in sys.path:\n",
    "  sys.path.append(modules)\n",
    "\n",
    "from binary_io import *\n",
    "import anns as pui"
   ]
  },
  {
   "cell_type": "code",
   "execution_count": 6,
   "metadata": {},
   "outputs": [],
   "source": [
    "dataset = [\n",
    "  # 'sift1m', 'gist1m', \n",
    "  'deep1m', 'text2image1m', 'turing1m', 'gcd']\n",
    "\n",
    "read_ways = [\n",
    "  # 'fvecs_read', 'fvecs_read', \n",
    "  'fbin_read', 'fbin_read', 'fbin_read', 'fvecs_read']\n",
    "\n",
    "bases = [\n",
    "  # \"/var/lib/docker/anns/dataset/sift1m/base.fvecs\",\n",
    "  # \"/var/lib/docker/anns/dataset/gist1m/base.fvecs\",\n",
    "  \"/var/lib/docker/anns/dataset/deep1b/base.1M.fbin\",\n",
    "  \"/home/dbcloud/big-ann-benchmarks/data/text2image1B/base.1B.fbin.crop_nb_1000000\",\n",
    "  \"/home/dbcloud/big-ann-benchmarks/data/MSTuringANNS/base1b.fbin.crop_nb_1000000\",\n",
    "  \"/home/dbcloud/ym/CSPG/experiment/distribution/data/base.fvecs\"\n",
    "]\n",
    "\n",
    "queries = [\n",
    "  # \"/var/lib/docker/anns/query/sift1m/query.fvecs\",\n",
    "  # \"/var/lib/docker/anns/query/gist1m/query.fvecs\",\n",
    "  \"/var/lib/docker/anns/dataset/deep1b/query.public.10K.fbin\",\n",
    "  \"/home/dbcloud/big-ann-benchmarks/data/text2image1B/query.heldout.30K.fbin\",\n",
    "  \"/home/dbcloud/big-ann-benchmarks/data/MSTuringANNS/testQuery10K.fbin\",\n",
    "  \"/home/dbcloud/ym/CSPG/experiment/distribution/data/query.fvecs\"\n",
    "]\n",
    "\n",
    "gts = [\n",
    "  # \"/var/lib/docker/anns/query/sift1m/gt.ivecs\",\n",
    "  # \"/var/lib/docker/anns/query/gist1m/gt.ivecs\",\n",
    "  \"/var/lib/docker/anns/dataset/deep1b/gt_1M.ibin\",\n",
    "  \"/home/dbcloud/big-ann-benchmarks/data/text2image1B/gt100-heldout.30K.ivecs\",\n",
    "  \"/home/dbcloud/big-ann-benchmarks/data/MSTuringANNS/testQuery10K_gt.ivecs\",\n",
    "  \"/home/dbcloud/ym/CSPG/experiment/distribution/data/gt.ivecs\"\n",
    "]\n",
    "\n",
    "output = '/home/dbcloud/ym/CSPG/experiment/output/distribution/'"
   ]
  },
  {
   "cell_type": "code",
   "execution_count": 7,
   "metadata": {},
   "outputs": [],
   "source": [
    "def test_faiss_ivf(base, query, gt, rw, dataset):\n",
    "\n",
    "  if rw == 'fbin_read':\n",
    "    base = fbin_read(base)\n",
    "    query = fbin_read(query)\n",
    "  else:\n",
    "    base = fvecs_read(base)\n",
    "    query = fvecs_read(query)\n",
    "\n",
    "  if dataset == 'deep1m':\n",
    "    gt = ibin_read(gt)\n",
    "  else:\n",
    "    gt = ivecs_read(gt)\n",
    "\n",
    "  nb, d = base.shape\n",
    "  nq, ngt = gt.shape\n",
    "  gt = gt.flatten().tolist()\n",
    "\n",
    "  k = 10\n",
    "  threads = 24\n",
    "  faiss.omp_set_num_threads(threads)\n",
    "\n",
    "  nlist = 1204\n",
    "\n",
    "  quantizer = faiss.IndexFlatL2(d) \n",
    "  index = faiss.IndexIVFFlat(quantizer, d, nlist, faiss.METRIC_L2)\n",
    "  # Train the index\n",
    "  index.train(base)\n",
    "  # Add the base vectors to the index\n",
    "  index.add(base)\n",
    "\n",
    "  print(ds, nb, d, nq, nlist, k)\n",
    "\n",
    "  out = open(output + dataset + '_ivf.csv', 'w')\n",
    "\n",
    "  tm = pui.STimer()\n",
    "\n",
    "  print('num_queries,nlist,nprobe,query_time,recall', file=out)\n",
    "  for npb in range(10, 200+1, 10):\n",
    "    index.nprobe = npb\n",
    "    tm.reset()\n",
    "    tm.start()\n",
    "    D, I = index.search(query, k)\n",
    "    tm.stop()\n",
    "    query_time = tm.get_time()\n",
    "    recall = pui.get_recall(k, ngt, gt, I)\n",
    "    print(f\"{nq},{nlist},{npb},{query_time},{recall}\", file=out)\n",
    "\n",
    "  out.close()"
   ]
  },
  {
   "cell_type": "code",
   "execution_count": 8,
   "metadata": {},
   "outputs": [
    {
     "name": "stdout",
     "output_type": "stream",
     "text": [
      "deep1m 1000000 96 10000 1204 10\n",
      "text2image1m 1000000 200 30000 1204 10\n",
      "turing1m 1000000 100 10000 1204 10\n",
      "gcd 1000000 96 1000 1204 10\n"
     ]
    }
   ],
   "source": [
    "for ds, rw, base, query, gt in zip(dataset, read_ways, bases, queries, gts):\n",
    "  test_faiss_ivf(base, query, gt, rw, ds)"
   ]
  }
 ],
 "metadata": {
  "kernelspec": {
   "display_name": "yangming",
   "language": "python",
   "name": "python3"
  },
  "language_info": {
   "codemirror_mode": {
    "name": "ipython",
    "version": 3
   },
   "file_extension": ".py",
   "mimetype": "text/x-python",
   "name": "python",
   "nbconvert_exporter": "python",
   "pygments_lexer": "ipython3",
   "version": "3.12.3"
  },
  "orig_nbformat": 4
 },
 "nbformat": 4,
 "nbformat_minor": 2
}
