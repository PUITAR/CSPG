{
 "cells": [
  {
   "cell_type": "code",
   "execution_count": 1,
   "metadata": {},
   "outputs": [],
   "source": [
    "import sys\n",
    "\n",
    "mpath = '/home/dbcloud/ym/CSPG/ANNS/modules'\n",
    "\n",
    "if mpath not in sys.path:\n",
    "  sys.path.append(mpath)\n",
    "\n",
    "import anns\n",
    "import numpy as np\n",
    "from binary import *"
   ]
  },
  {
   "cell_type": "code",
   "execution_count": 2,
   "metadata": {},
   "outputs": [],
   "source": [
    "base = \"/var/lib/docker/anns/dataset/sift1m/base.fvecs\"\n",
    "query = \"/var/lib/docker/anns/query/sift1m/query.fvecs\"\n",
    "gt = \"/var/lib/docker/anns/query/sift1m/gt.ivecs\"\n",
    "\n",
    "base = fvecs_read(base)\n",
    "query = fvecs_read(query)\n",
    "gt = ivecs_read(gt)"
   ]
  },
  {
   "cell_type": "code",
   "execution_count": 3,
   "metadata": {},
   "outputs": [
    {
     "data": {
      "text/plain": [
       "(1000000, 128, 10000, 100)"
      ]
     },
     "execution_count": 3,
     "metadata": {},
     "output_type": "execute_result"
    }
   ],
   "source": [
    "nb, d = base.shape\n",
    "nq, _ = query.shape\n",
    "_, ngt = gt.shape\n",
    "\n",
    "nb, d, nq, ngt"
   ]
  },
  {
   "cell_type": "code",
   "execution_count": 4,
   "metadata": {},
   "outputs": [],
   "source": [
    "m = 2\n",
    "threads = 24\n",
    "k = 10\n",
    "\n",
    "base = base.flatten().tolist()\n",
    "query = query.flatten().tolist()\n",
    "gt = gt.flatten().tolist()"
   ]
  },
  {
   "attachments": {},
   "cell_type": "markdown",
   "metadata": {},
   "source": [
    "CSPG-HCNNG"
   ]
  },
  {
   "cell_type": "code",
   "execution_count": 5,
   "metadata": {},
   "outputs": [
    {
     "name": "stdout",
     "output_type": "stream",
     "text": [
      "0.90609\n"
     ]
    }
   ],
   "source": [
    "index = anns.CSPG_HCNNG_FLOAT(d, m)\n",
    "index.build(base, threads, [5, 15, 1000, 0.5])\n",
    "knn = index.search(query, k, threads, ef1 = 1, ef2 = 128)\n",
    "print(anns.get_recall(k, ngt, gt, knn))"
   ]
  },
  {
   "attachments": {},
   "cell_type": "markdown",
   "metadata": {},
   "source": [
    "CSPG-NSG"
   ]
  },
  {
   "cell_type": "code",
   "execution_count": null,
   "metadata": {},
   "outputs": [],
   "source": [
    "index = anns.CSPG_NSG_FLOAT(d, m)\n",
    "index.build(base, threads, [32, 128, 0.5])\n",
    "knn = index.search(query, k, threads, ef1 = 1, ef2 = 128)\n",
    "print(anns.get_recall(k, ngt, gt, knn))"
   ]
  },
  {
   "attachments": {},
   "cell_type": "markdown",
   "metadata": {},
   "source": [
    "CSPG-HNSW"
   ]
  },
  {
   "cell_type": "code",
   "execution_count": null,
   "metadata": {},
   "outputs": [
    {
     "name": "stdout",
     "output_type": "stream",
     "text": [
      "0.98972\n"
     ]
    }
   ],
   "source": [
    "index = anns.CSPG_HNSW_FLOAT(d, m)\n",
    "index.build(base, threads, [32, 128, 0.5])\n",
    "knn = index.search(query, k, threads, ef1 = 1, ef2 = 128)\n",
    "print(anns.get_recall(k, ngt, gt, knn))"
   ]
  },
  {
   "attachments": {},
   "cell_type": "markdown",
   "metadata": {},
   "source": [
    "CSPG-DiskANN"
   ]
  },
  {
   "cell_type": "code",
   "execution_count": null,
   "metadata": {},
   "outputs": [
    {
     "name": "stdout",
     "output_type": "stream",
     "text": [
      "0.99963\n"
     ]
    }
   ],
   "source": [
    "index = anns.CSPG_DiskANN_FLOAT(d, m)\n",
    "index.build(base, threads, [32, 1.2, 128, 0.5])\n",
    "knn = index.search(query, k, threads, ef1 = 1, ef2 = 128)\n",
    "print(anns.get_recall(k, ngt, gt, knn))"
   ]
  }
 ],
 "metadata": {
  "kernelspec": {
   "display_name": "yangming",
   "language": "python",
   "name": "python3"
  },
  "language_info": {
   "codemirror_mode": {
    "name": "ipython",
    "version": 3
   },
   "file_extension": ".py",
   "mimetype": "text/x-python",
   "name": "python",
   "nbconvert_exporter": "python",
   "pygments_lexer": "ipython3",
   "version": "3.12.3"
  },
  "orig_nbformat": 4
 },
 "nbformat": 4,
 "nbformat_minor": 2
}
