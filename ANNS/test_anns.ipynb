{
 "cells": [
  {
   "cell_type": "code",
   "execution_count": 1,
   "metadata": {},
   "outputs": [],
   "source": [
    "import sys\n",
    "\n",
    "mpath = '/home/dbcloud/ym/CSPG/ANNS/modules'\n",
    "\n",
    "if mpath not in sys.path:\n",
    "  sys.path.append(mpath)\n",
    "\n",
    "import anns\n",
    "import numpy as np"
   ]
  },
  {
   "cell_type": "code",
   "execution_count": 2,
   "metadata": {},
   "outputs": [
    {
     "data": {
      "text/plain": [
       "(array([[ 0., 16., 35., ..., 25., 23.,  1.],\n",
       "        [14., 35., 19., ..., 11., 21., 33.],\n",
       "        [ 0.,  1.,  5., ...,  4., 23., 10.],\n",
       "        ...,\n",
       "        [34.,  8., 32., ..., 11.,  2.,  6.],\n",
       "        [14.,  7.,  5., ..., 28., 16., 38.],\n",
       "        [54., 51., 15., ...,  4., 17., 32.]], dtype=float32),\n",
       " array([[  1.,   3.,  11., ...,  42.,  48.,  11.],\n",
       "        [ 40.,  25.,  11., ...,   3.,  19.,  13.],\n",
       "        [ 28.,   4.,   3., ...,   2.,  54.,  47.],\n",
       "        ...,\n",
       "        [  0.,  15.,  64., ...,   3.,  62., 118.],\n",
       "        [131.,   2.,   0., ...,   7.,   0.,   0.],\n",
       "        [ 23.,   0.,   0., ...,  79.,  16.,   4.]], dtype=float32),\n",
       " array([[932085, 934876, 561813, ..., 398306, 931721, 989762],\n",
       "        [413247, 413071, 706838, ..., 855176, 846198, 987074],\n",
       "        [669835, 408764, 408462, ..., 310475, 971815, 937903],\n",
       "        ...,\n",
       "        [123855, 123351, 534149, ...,  90175, 685486, 416474],\n",
       "        [755327, 755323, 840765, ..., 595134, 601257, 172180],\n",
       "        [874343, 464509, 413340, ..., 360985, 419949, 223427]], dtype=int32))"
      ]
     },
     "execution_count": 2,
     "metadata": {},
     "output_type": "execute_result"
    }
   ],
   "source": [
    "from binary_io import  *\n",
    "\n",
    "base = \"/var/lib/docker/anns/dataset/sift1m/base.fvecs\"\n",
    "query = \"/var/lib/docker/anns/query/sift1m/query.fvecs\"\n",
    "gt = \"/var/lib/docker/anns/query/sift1m/gt.ivecs\"\n",
    "\n",
    "base = fvecs_read(base)\n",
    "query = fvecs_read(query)\n",
    "gt = ivecs_read(gt)\n",
    "\n",
    "base, query, gt"
   ]
  },
  {
   "cell_type": "code",
   "execution_count": 3,
   "metadata": {},
   "outputs": [
    {
     "data": {
      "text/plain": [
       "(67000, 128, 10000, 100)"
      ]
     },
     "execution_count": 3,
     "metadata": {},
     "output_type": "execute_result"
    }
   ],
   "source": [
    "nb, d = base.shape\n",
    "nq, _ = query.shape\n",
    "_, ngt = gt.shape\n",
    "\n",
    "nb, d, nq, ngt"
   ]
  },
  {
   "cell_type": "code",
   "execution_count": 4,
   "metadata": {},
   "outputs": [],
   "source": [
    "m = 2\n",
    "threads = 24\n",
    "k = 10\n",
    "\n",
    "base = base.flatten().tolist()\n",
    "query = query.flatten().tolist()\n",
    "gt = gt.flatten().tolist()"
   ]
  },
  {
   "cell_type": "code",
   "execution_count": 5,
   "metadata": {},
   "outputs": [],
   "source": [
    "index = anns.CSPG_HNSW_FLOAT(d, m)\n",
    "\n",
    "index.build(base, threads, [32, 128, 0.5])"
   ]
  },
  {
   "cell_type": "code",
   "execution_count": 6,
   "metadata": {},
   "outputs": [],
   "source": [
    "knn = index.search(query, k, threads, ef1 = 1, ef2 = 128)"
   ]
  },
  {
   "cell_type": "code",
   "execution_count": 7,
   "metadata": {},
   "outputs": [
    {
     "name": "stdout",
     "output_type": "stream",
     "text": [
      "0.09764\n"
     ]
    }
   ],
   "source": [
    "print(anns.get_recall(k, ngt, gt, knn))"
   ]
  }
 ],
 "metadata": {
  "kernelspec": {
   "display_name": "yangming",
   "language": "python",
   "name": "python3"
  },
  "language_info": {
   "codemirror_mode": {
    "name": "ipython",
    "version": 3
   },
   "file_extension": ".py",
   "mimetype": "text/x-python",
   "name": "python",
   "nbconvert_exporter": "python",
   "pygments_lexer": "ipython3",
   "version": "3.12.3"
  },
  "orig_nbformat": 4
 },
 "nbformat": 4,
 "nbformat_minor": 2
}
